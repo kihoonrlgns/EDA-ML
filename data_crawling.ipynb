{
 "cells": [
  {
   "cell_type": "code",
   "execution_count": 2,
   "metadata": {},
   "outputs": [
    {
     "name": "stdout",
     "output_type": "stream",
     "text": [
      "Requirement already satisfied: selenium in /Users/kihoonlee/opt/anaconda3/lib/python3.8/site-packages (3.141.0)\n",
      "Requirement already satisfied: urllib3 in /Users/kihoonlee/opt/anaconda3/lib/python3.8/site-packages (from selenium) (1.25.11)\n",
      "Note: you may need to restart the kernel to use updated packages.\n"
     ]
    }
   ],
   "source": [
    "pip install selenium"
   ]
  },
  {
   "cell_type": "code",
   "execution_count": 31,
   "metadata": {},
   "outputs": [
    {
     "name": "stdout",
     "output_type": "stream",
     "text": [
      "Collecting webdriver-manager\n",
      "  Downloading webdriver_manager-3.4.2-py2.py3-none-any.whl (16 kB)\n",
      "Collecting configparser\n",
      "  Downloading configparser-5.0.2-py3-none-any.whl (19 kB)\n",
      "Requirement already satisfied: requests in /Users/kihoonlee/opt/anaconda3/lib/python3.8/site-packages (from webdriver-manager) (2.24.0)\n",
      "Collecting crayons\n",
      "  Downloading crayons-0.4.0-py2.py3-none-any.whl (4.6 kB)\n",
      "Requirement already satisfied: urllib3!=1.25.0,!=1.25.1,<1.26,>=1.21.1 in /Users/kihoonlee/opt/anaconda3/lib/python3.8/site-packages (from requests->webdriver-manager) (1.25.11)\n",
      "Requirement already satisfied: idna<3,>=2.5 in /Users/kihoonlee/opt/anaconda3/lib/python3.8/site-packages (from requests->webdriver-manager) (2.10)\n",
      "Requirement already satisfied: certifi>=2017.4.17 in /Users/kihoonlee/opt/anaconda3/lib/python3.8/site-packages (from requests->webdriver-manager) (2020.6.20)\n",
      "Requirement already satisfied: chardet<4,>=3.0.2 in /Users/kihoonlee/opt/anaconda3/lib/python3.8/site-packages (from requests->webdriver-manager) (3.0.4)\n",
      "Requirement already satisfied: colorama in /Users/kihoonlee/opt/anaconda3/lib/python3.8/site-packages (from crayons->webdriver-manager) (0.4.4)\n",
      "Installing collected packages: configparser, crayons, webdriver-manager\n",
      "Successfully installed configparser-5.0.2 crayons-0.4.0 webdriver-manager-3.4.2\n",
      "Note: you may need to restart the kernel to use updated packages.\n"
     ]
    }
   ],
   "source": [
    "pip install webdriver-manager"
   ]
  },
  {
   "cell_type": "code",
   "execution_count": 2,
   "metadata": {},
   "outputs": [
    {
     "name": "stderr",
     "output_type": "stream",
     "text": [
      "\n",
      "\n",
      "====== WebDriver manager ======\n",
      "Current google-chrome version is 91.0.4472\n",
      "Get LATEST driver version for 91.0.4472\n",
      "There is no [mac64] chromedriver for browser 91.0.4472 in cache\n",
      "Get LATEST driver version for 91.0.4472\n",
      "Trying to download new driver from https://chromedriver.storage.googleapis.com/91.0.4472.19/chromedriver_mac64.zip\n",
      "Driver has been saved in cache [/Users/kihoonlee/.wdm/drivers/chromedriver/mac64/91.0.4472.19]\n"
     ]
    }
   ],
   "source": [
    "from selenium import webdriver\n",
    "from webdriver_manager.chrome import ChromeDriverManager"
   ]
  },
  {
   "cell_type": "code",
   "execution_count": 9,
   "metadata": {},
   "outputs": [
    {
     "name": "stderr",
     "output_type": "stream",
     "text": [
      "\n",
      "\n",
      "====== WebDriver manager ======\n",
      "Current google-chrome version is 91.0.4472\n",
      "Get LATEST driver version for 91.0.4472\n",
      "Driver [/Users/kihoonlee/.wdm/drivers/chromedriver/mac64/91.0.4472.19/chromedriver] found in cache\n"
     ]
    }
   ],
   "source": [
    "driver = webdriver.Chrome(ChromeDriverManager().install())\n",
    "#driver.quit()"
   ]
  },
  {
   "cell_type": "code",
   "execution_count": 26,
   "metadata": {},
   "outputs": [],
   "source": [
    "driver.get('http://emart.ssg.com/')"
   ]
  },
  {
   "cell_type": "code",
   "execution_count": 11,
   "metadata": {},
   "outputs": [],
   "source": [
    "driver.find_element_by_xpath('//*[@id=\"e_gnb\"]/div/div[1]/div[2]/ul[1]/li[9]/a').click()"
   ]
  },
  {
   "cell_type": "code",
   "execution_count": 13,
   "metadata": {},
   "outputs": [
    {
     "data": {
      "text/plain": [
       "'삼다수 2L'"
      ]
     },
     "execution_count": 13,
     "metadata": {},
     "output_type": "execute_result"
    }
   ],
   "source": [
    "driver.find_element_by_xpath('//*[@id=\"ty_thmb_view\"]/ul/li[1]/div[2]/div[2]/div/a/em[1]').text"
   ]
  },
  {
   "cell_type": "code",
   "execution_count": 14,
   "metadata": {},
   "outputs": [
    {
     "data": {
      "text/plain": [
       "'980'"
      ]
     },
     "execution_count": 14,
     "metadata": {},
     "output_type": "execute_result"
    }
   ],
   "source": [
    "driver.find_element_by_xpath('//*[@id=\"ty_thmb_view\"]/ul/li[1]/div[2]/div[3]/div/em').text"
   ]
  },
  {
   "cell_type": "code",
   "execution_count": 17,
   "metadata": {
    "collapsed": true
   },
   "outputs": [
    {
     "name": "stdout",
     "output_type": "stream",
     "text": [
      "삼다수 2L\n",
      "980\n",
      "삼다수 500ml\n",
      "430\n",
      "[농심] 백산수 2L\n",
      "780\n",
      "[롯데] 아이시스 8.0 2L\n",
      "680\n",
      "피코크 ABC클렌즈주스 900ml (비가열)\n",
      "7,980\n",
      "215ml 12입\n",
      "6,880\n",
      "서울우유 아침에주스 오렌지 1.8L\n",
      "4,080\n",
      "[트레비] 라임 300ml*20입\n",
      "8,780\n",
      "Juver 착즙 오렌지 주스 1L\n",
      "3,980\n",
      "[농심] 백산수 500ml\n",
      "340\n",
      "제로 1.5L\n",
      "2,080\n",
      "삼다수 330ml\n",
      "390\n",
      "초정탄산수 1.5L\n",
      "980\n",
      "[웅진] 하늘보리 1.5L\n",
      "1,000\n",
      "피코크 트루워터 330ml\n",
      "168\n",
      "1.8L 2입 기획\n",
      "5,280\n",
      "[트레비] 레몬 300ml*20\n",
      "8,780\n",
      "칠성사이다210캔*10\n",
      "4,880\n",
      "코카콜라제로 215ml*12\n",
      "6,880\n",
      "피코크 유기농 클렌즈 콤부차 에너지 (진저베리) 315ml\n",
      "2,310\n",
      "[파워에이드] 마운틴 블라스트 (1.5L)\n",
      "1,475\n",
      "삼성생명水 2.0L*6입\n",
      "2,000\n",
      "[아침에주스] 오렌지 (950ml)\n",
      "2,980\n",
      "[트레비] 플레인 500ml\n",
      "1,080\n",
      "피코크 유기농 클렌즈 콤부차 오리지널 315ml\n",
      "2,310\n",
      "[트레비] 라임 500ml\n",
      "1,080\n",
      "씨그램 플레인 350ml*12\n",
      "5,980\n",
      "[롯데] 아이시스8.0 500ml\n",
      "350\n",
      "피코크 유기농 클렌즈 콤부차 뷰티 (석류) 315ml\n",
      "2,310\n",
      "[롯데]아이시스 8.0 300ml\n",
      "250\n",
      "[피코크] 트루 스파클링 레몬(500ml×6입)\n",
      "3,570\n",
      "[델몬트] 콜드 오렌지 과즙 100%(1.89L*2) 3.78L\n",
      "7,980\n",
      "Juver 착즙 사과주스 1L\n",
      "3,980\n",
      "코카1.8L + 스프라이트 1.8L\n",
      "4,480\n",
      "[트레비] 레몬 500ml\n",
      "1,080\n",
      "피코크 블렌디드 딸기 870ml\n",
      "7,984\n",
      "[동아오츠카] 나랑드 사이다 1.5L\n",
      "1,180\n",
      "[트레비] 자몽 500ml\n",
      "1,080\n",
      "[트레비] 자몽 300ml*20입\n",
      "8,780\n",
      "[농심] 백산수 330ml\n",
      "310\n",
      "서울우유 아침에주스 포도 1.8L\n",
      "4,080\n",
      "[피코크] 트루스파클링 자몽(500ml×6입)\n",
      "3,570\n",
      "포카리스웨트 1.8L*2\n",
      "4,280\n",
      "[빙그레] 따옴 오렌지주스 1600ml\n",
      "4,880\n",
      "[롯데] 칠성사이다 1.8L*2입\n",
      "4,780\n",
      "코크제로+스프라이트 제로 1.5*2\n",
      "3,780\n",
      "오랑지나 420ml*6입\n",
      "5,980\n",
      "노브랜드 Fresh제주감귤음료1.5L\n",
      "1,580\n",
      "천연사이다 250ml*6\n",
      "2,480\n",
      "코카콜라 500ml\n",
      "1,750\n",
      "씨그램 레몬 350ML*12\n",
      "5,980\n",
      "펩시제로 라임슈거향 500ml\n",
      "980\n",
      "[서울우유] 아침에주스 사과 1.8L\n",
      "4,080\n",
      "코카-콜라 제로 500ml\n",
      "1,680\n",
      "[웅진] 뉴 초록매실 1.5L\n",
      "2,280\n",
      "[웅진] 자연은 알로에 주스 1.5L\n",
      "2,280\n",
      "코카콜라 300ml*12PET\n",
      "11,480\n",
      "갈아만든 배 1L\n",
      "1,580\n",
      "[광동] (S) 비타500 칼슘 (100ml*20개)\n",
      "10,960\n",
      "[롯데] 탐라 제주감귤 주스 1.8L*2입\n",
      "3,980\n",
      "[아침에주스] 100% 오렌지 (210ml*3개)\n",
      "2,850\n",
      "[아침에주스] 포도 (950ml)\n",
      "2,980\n",
      "씨그램 라임 350ML*12\n",
      "5,980\n",
      "스프라이트 제로 1.5L\n",
      "2,380\n",
      "토레타 1.5L\n",
      "1,480\n",
      "[롯데] 칠성 사이다 (500ml)\n",
      "1,580\n",
      "코카콜라제로 300ML*12\n",
      "11,480\n",
      "오션스프레이 루비레드 1.5L\n",
      "3,280\n",
      "[펩시] 콜라 (1.8L*2입)\n",
      "4,180\n",
      "[노브랜드] 식혜 음료 238ml*12\n",
      "4,560\n",
      "[웰치스] 웰치 그레이프맛 (355ml6개)\n",
      "3,680\n",
      "[델몬트] 오렌지 드링크(190ml24팩) 4560ml\n",
      "6,480\n",
      "펩시 제로 210ml*10\n",
      "4,880\n",
      "캐나다드라이 진저에일 250ml*6\n",
      "3,480\n",
      "피코크 블렌디드 망고 900ml\n",
      "7,984\n",
      "[롯데] 칠성 사이다 1.5L+밀키스 1.5L\n",
      "4,080\n",
      "[트레비] 플레인 400ml*6입\n",
      "3,980\n",
      "[TIPCO] 쇼군 오렌지 주스 1L\n",
      "3,980\n",
      "펩시콜라210캔*10\n",
      "4,880\n",
      "[일화] 맥콜 (250ml*6입)\n",
      "2,480\n"
     ]
    }
   ],
   "source": [
    "for i in range(1,81):\n",
    "    product_name = driver.find_element_by_xpath('//*[@id=\"ty_thmb_view\"]/ul/li['+str(i)+']/div[2]/div[2]/div/a/em[1]')\n",
    "    price = driver.find_element_by_xpath('//*[@id=\"ty_thmb_view\"]/ul/li['+str(i)+']/div[2]/div[3]/div[1]/em')\n",
    "    print(product_name.text)\n",
    "    print(price.text)"
   ]
  },
  {
   "cell_type": "code",
   "execution_count": 19,
   "metadata": {},
   "outputs": [],
   "source": [
    "product_list = []\n",
    "price_list = []\n",
    "\n",
    "for i in range(1,81):\n",
    "    product_name = driver.find_element_by_xpath('//*[@id=\"ty_thmb_view\"]/ul/li['+str(i)+']/div[2]/div[2]/div/a/em[1]')\n",
    "    price = driver.find_element_by_xpath('//*[@id=\"ty_thmb_view\"]/ul/li['+str(i)+']/div[2]/div[3]/div[1]/em')\n",
    "    product_list.append(product_name.text)\n",
    "    price_list.append(price.text)"
   ]
  },
  {
   "cell_type": "code",
   "execution_count": 21,
   "metadata": {
    "collapsed": true
   },
   "outputs": [
    {
     "data": {
      "text/plain": [
       "['980',\n",
       " '430',\n",
       " '780',\n",
       " '680',\n",
       " '7,980',\n",
       " '6,880',\n",
       " '4,080',\n",
       " '8,780',\n",
       " '3,980',\n",
       " '340',\n",
       " '2,080',\n",
       " '390',\n",
       " '980',\n",
       " '1,000',\n",
       " '168',\n",
       " '5,280',\n",
       " '8,780',\n",
       " '4,880',\n",
       " '6,880',\n",
       " '2,310',\n",
       " '1,475',\n",
       " '2,000',\n",
       " '2,980',\n",
       " '1,080',\n",
       " '2,310',\n",
       " '1,080',\n",
       " '5,980',\n",
       " '350',\n",
       " '2,310',\n",
       " '250',\n",
       " '3,570',\n",
       " '7,980',\n",
       " '3,980',\n",
       " '4,480',\n",
       " '1,080',\n",
       " '7,984',\n",
       " '1,180',\n",
       " '1,080',\n",
       " '8,780',\n",
       " '310',\n",
       " '4,080',\n",
       " '3,570',\n",
       " '4,280',\n",
       " '4,880',\n",
       " '4,780',\n",
       " '3,780',\n",
       " '5,980',\n",
       " '1,580',\n",
       " '2,480',\n",
       " '1,750',\n",
       " '5,980',\n",
       " '980',\n",
       " '4,080',\n",
       " '1,680',\n",
       " '2,280',\n",
       " '2,280',\n",
       " '11,480',\n",
       " '1,580',\n",
       " '10,960',\n",
       " '3,980',\n",
       " '2,850',\n",
       " '2,980',\n",
       " '5,980',\n",
       " '2,380',\n",
       " '1,480',\n",
       " '1,580',\n",
       " '11,480',\n",
       " '3,280',\n",
       " '4,180',\n",
       " '4,560',\n",
       " '3,680',\n",
       " '6,480',\n",
       " '4,880',\n",
       " '3,480',\n",
       " '7,984',\n",
       " '4,080',\n",
       " '3,980',\n",
       " '3,980',\n",
       " '4,880',\n",
       " '2,480']"
      ]
     },
     "execution_count": 21,
     "metadata": {},
     "output_type": "execute_result"
    }
   ],
   "source": [
    "price_list"
   ]
  },
  {
   "cell_type": "code",
   "execution_count": 22,
   "metadata": {},
   "outputs": [],
   "source": [
    "import pandas as pd"
   ]
  },
  {
   "cell_type": "code",
   "execution_count": 24,
   "metadata": {},
   "outputs": [
    {
     "data": {
      "text/html": [
       "<div>\n",
       "<style scoped>\n",
       "    .dataframe tbody tr th:only-of-type {\n",
       "        vertical-align: middle;\n",
       "    }\n",
       "\n",
       "    .dataframe tbody tr th {\n",
       "        vertical-align: top;\n",
       "    }\n",
       "\n",
       "    .dataframe thead th {\n",
       "        text-align: right;\n",
       "    }\n",
       "</style>\n",
       "<table border=\"1\" class=\"dataframe\">\n",
       "  <thead>\n",
       "    <tr style=\"text-align: right;\">\n",
       "      <th></th>\n",
       "      <th>상품명</th>\n",
       "      <th>가격</th>\n",
       "    </tr>\n",
       "  </thead>\n",
       "  <tbody>\n",
       "    <tr>\n",
       "      <th>0</th>\n",
       "      <td>삼다수 2L</td>\n",
       "      <td>980</td>\n",
       "    </tr>\n",
       "    <tr>\n",
       "      <th>1</th>\n",
       "      <td>삼다수 500ml</td>\n",
       "      <td>430</td>\n",
       "    </tr>\n",
       "    <tr>\n",
       "      <th>2</th>\n",
       "      <td>[농심] 백산수 2L</td>\n",
       "      <td>780</td>\n",
       "    </tr>\n",
       "    <tr>\n",
       "      <th>3</th>\n",
       "      <td>[롯데] 아이시스 8.0 2L</td>\n",
       "      <td>680</td>\n",
       "    </tr>\n",
       "    <tr>\n",
       "      <th>4</th>\n",
       "      <td>피코크 ABC클렌즈주스 900ml (비가열)</td>\n",
       "      <td>7,980</td>\n",
       "    </tr>\n",
       "    <tr>\n",
       "      <th>...</th>\n",
       "      <td>...</td>\n",
       "      <td>...</td>\n",
       "    </tr>\n",
       "    <tr>\n",
       "      <th>75</th>\n",
       "      <td>[롯데] 칠성 사이다 1.5L+밀키스 1.5L</td>\n",
       "      <td>4,080</td>\n",
       "    </tr>\n",
       "    <tr>\n",
       "      <th>76</th>\n",
       "      <td>[트레비] 플레인 400ml*6입</td>\n",
       "      <td>3,980</td>\n",
       "    </tr>\n",
       "    <tr>\n",
       "      <th>77</th>\n",
       "      <td>[TIPCO] 쇼군 오렌지 주스 1L</td>\n",
       "      <td>3,980</td>\n",
       "    </tr>\n",
       "    <tr>\n",
       "      <th>78</th>\n",
       "      <td>펩시콜라210캔*10</td>\n",
       "      <td>4,880</td>\n",
       "    </tr>\n",
       "    <tr>\n",
       "      <th>79</th>\n",
       "      <td>[일화] 맥콜 (250ml*6입)</td>\n",
       "      <td>2,480</td>\n",
       "    </tr>\n",
       "  </tbody>\n",
       "</table>\n",
       "<p>80 rows × 2 columns</p>\n",
       "</div>"
      ],
      "text/plain": [
       "                          상품명     가격\n",
       "0                      삼다수 2L    980\n",
       "1                   삼다수 500ml    430\n",
       "2                 [농심] 백산수 2L    780\n",
       "3            [롯데] 아이시스 8.0 2L    680\n",
       "4    피코크 ABC클렌즈주스 900ml (비가열)  7,980\n",
       "..                        ...    ...\n",
       "75  [롯데] 칠성 사이다 1.5L+밀키스 1.5L  4,080\n",
       "76         [트레비] 플레인 400ml*6입  3,980\n",
       "77       [TIPCO] 쇼군 오렌지 주스 1L  3,980\n",
       "78                펩시콜라210캔*10  4,880\n",
       "79         [일화] 맥콜 (250ml*6입)  2,480\n",
       "\n",
       "[80 rows x 2 columns]"
      ]
     },
     "execution_count": 24,
     "metadata": {},
     "output_type": "execute_result"
    }
   ],
   "source": [
    "df1 = pd.DataFrame({'상품명':product_list, '가격':price_list})\n",
    "df1"
   ]
  },
  {
   "cell_type": "code",
   "execution_count": 25,
   "metadata": {},
   "outputs": [],
   "source": [
    "df1.to_excel('result1.xlsx')"
   ]
  },
  {
   "cell_type": "markdown",
   "metadata": {},
   "source": [
    "# image"
   ]
  },
  {
   "cell_type": "code",
   "execution_count": 28,
   "metadata": {},
   "outputs": [
    {
     "data": {
      "text/plain": [
       "'http://item.ssgcdn.com/46/07/33/item/1000015330746_i1_290.jpg'"
      ]
     },
     "execution_count": 28,
     "metadata": {},
     "output_type": "execute_result"
    }
   ],
   "source": [
    "image = driver.find_element_by_xpath('//*[@id=\"ty_thmb_view\"]/ul/li[1]/div[1]/div[2]/a/img[1]')\n",
    "image.get_attribute('src')"
   ]
  },
  {
   "cell_type": "code",
   "execution_count": 31,
   "metadata": {
    "collapsed": true
   },
   "outputs": [
    {
     "name": "stdout",
     "output_type": "stream",
     "text": [
      "http://item.ssgcdn.com/46/07/33/item/1000015330746_i1_290.jpg\n",
      "http://item.ssgcdn.com/75/07/33/item/1000015330775_i1_290.jpg\n",
      "http://item.ssgcdn.com/46/62/97/item/0000008976246_i1_290.jpg\n",
      "http://item.ssgcdn.com/78/47/31/item/1000015314778_i1_290.jpg\n",
      "http://item.ssgcdn.com/17/70/81/item/1000050817017_i1_290.jpg\n",
      "http://item.ssgcdn.com/59/08/89/item/1000033890859_i1_290.jpg\n",
      "http://item.ssgcdn.com/43/60/51/item/1000015516043_i1_290.jpg\n",
      "http://item.ssgcdn.com/62/82/62/item/1000017628262_i1_290.jpg\n",
      "http://item.ssgcdn.com/36/67/34/item/1000037346736_i1_290.jpg\n",
      "http://item.ssgcdn.com/11/40/03/item/0000010034011_i1_290.jpg\n",
      "http://item.ssgcdn.com/88/19/87/item/0000006871988_i1_290.jpg\n",
      "http://item.ssgcdn.com/47/41/91/item/1000029914147_i1_290.jpg\n",
      "http://item.ssgcdn.com/28/60/61/item/0000006616028_i1_290.jpg\n",
      "http://item.ssgcdn.com/20/19/02/item/0000007021920_i1_290.jpg\n",
      "http://item.ssgcdn.com/03/05/46/item/1000045460503_i1_290.jpg\n",
      "http://item.ssgcdn.com/22/03/71/item/1000009710322_i1_290.jpg\n",
      "http://item.ssgcdn.com/33/14/23/item/1000029231433_i1_290.jpg\n",
      "http://item.ssgcdn.com/61/89/16/item/1000027168961_i1_290.jpg\n",
      "http://item.ssgcdn.com/86/61/17/item/1000049176186_i1_290.jpg\n",
      "http://item.ssgcdn.com/69/85/31/item/1000052318569_i1_290.jpg\n",
      "http://item.ssgcdn.com/32/91/60/item/0000006609132_i1_290.jpg\n",
      "http://item.ssgcdn.com/14/85/81/item/1000065818514_i1_290.jpg\n",
      "http://item.ssgcdn.com/10/51/61/item/0000006615110_i1_290.jpg\n",
      "http://item.ssgcdn.com/15/16/94/item/0000008941615_i1_290.jpg\n",
      "http://item.ssgcdn.com/72/85/31/item/1000052318572_i1_290.jpg\n",
      "http://item.ssgcdn.com/10/16/94/item/0000008941610_i1_290.jpg\n",
      "http://item.ssgcdn.com/67/02/44/item/1000041440267_i1_290.jpg\n",
      "http://item.ssgcdn.com/91/45/31/item/1000015314591_i1_290.jpg\n",
      "http://item.ssgcdn.com/71/85/31/item/1000052318571_i1_290.jpg\n",
      "http://item.ssgcdn.com/20/39/23/item/1000016233920_i1_290.jpg\n",
      "http://item.ssgcdn.com/57/80/26/item/1000036268057_i1_290.jpg\n",
      "http://item.ssgcdn.com/17/88/55/item/0000007558817_i1_290.jpg\n",
      "http://item.ssgcdn.com/38/61/11/item/1000049116138_i1_290.jpg\n",
      "http://item.ssgcdn.com/28/08/49/item/1000011490828_i1_290.jpg\n",
      "http://item.ssgcdn.com/14/16/94/item/0000008941614_i1_290.jpg\n",
      "http://item.ssgcdn.com/82/19/25/item/1000011251982_i1_290.jpg\n",
      "http://item.ssgcdn.com/04/08/93/item/0000007930804_i1_290.jpg\n",
      "http://item.ssgcdn.com/66/11/18/item/1000011181166_i1_290.jpg\n",
      "http://item.ssgcdn.com/29/74/53/item/1000018537429_i1_290.jpg\n",
      "http://item.ssgcdn.com/54/83/46/item/1000017468354_i1_290.jpg\n",
      "http://item.ssgcdn.com/44/60/51/item/1000015516044_i1_290.jpg\n",
      "http://item.ssgcdn.com/59/80/26/item/1000036268059_i1_290.jpg\n",
      "http://item.ssgcdn.com/28/59/05/item/0000008055928_i1_290.jpg\n",
      "http://item.ssgcdn.com/99/84/67/item/1000004678499_i1_290.jpg\n",
      "http://item.ssgcdn.com/48/63/22/item/1000010226348_i1_290.jpg\n",
      "http://item.ssgcdn.com/51/20/52/item/1000067522051_i1_290.jpg\n",
      "http://item.ssgcdn.com/82/97/76/item/1000031769782_i1_290.jpg\n",
      "http://item.ssgcdn.com/74/54/56/item/1000053565474_i1_290.jpg\n",
      "http://item.ssgcdn.com/19/91/60/item/0000006609119_i1_290.jpg\n",
      "http://item.ssgcdn.com/55/32/08/item/0000007083255_i1_290.jpg\n",
      "http://item.ssgcdn.com/65/02/44/item/1000041440265_i1_290.jpg\n",
      "http://item.ssgcdn.com/73/68/39/item/1000061396873_i1_290.jpg\n",
      "http://item.ssgcdn.com/17/29/63/item/1000022632917_i1_290.jpg\n",
      "http://item.ssgcdn.com/15/97/10/item/0000007109715_i1_290.jpg\n",
      "http://item.ssgcdn.com/93/14/61/item/0000006611493_i1_290.jpg\n",
      "http://item.ssgcdn.com/68/38/61/item/0000006613868_i1_290.jpg\n",
      "http://item.ssgcdn.com/26/90/16/item/1000027169026_i1_290.jpg\n",
      "http://item.ssgcdn.com/44/96/97/item/1000021979644_i1_290.jpg\n",
      "http://item.ssgcdn.com/98/80/71/item/0000007718098_i1_290.jpg\n",
      "http://item.ssgcdn.com/19/40/54/item/1000010544019_i1_290.jpg\n",
      "http://item.ssgcdn.com/80/05/69/item/0000007690580_i1_290.jpg\n",
      "http://item.ssgcdn.com/09/51/61/item/0000006615109_i1_290.jpg\n",
      "http://item.ssgcdn.com/06/49/68/item/1000036684906_i1_290.jpg\n",
      "http://item.ssgcdn.com/01/43/79/item/1000064794301_i1_290.jpg\n",
      "http://item.ssgcdn.com/14/57/67/item/1000017675714_i1_290.jpg\n",
      "http://item.ssgcdn.com/26/95/60/item/0000006609526_i1_290.jpg\n",
      "http://item.ssgcdn.com/76/29/62/item/1000052622976_i1_290.jpg\n",
      "http://item.ssgcdn.com/43/38/05/item/1000006053843_i1_290.jpg\n",
      "http://item.ssgcdn.com/33/10/96/item/0000008961033_i1_290.jpg\n",
      "http://item.ssgcdn.com/02/72/91/item/1000017917202_i1_290.jpg\n",
      "http://item.ssgcdn.com/87/37/93/item/0000006933787_i1_290.jpg\n",
      "http://item.ssgcdn.com/42/06/61/item/0000007610642_i1_290.jpg\n",
      "http://item.ssgcdn.com/71/42/79/item/1000064794271_i1_290.jpg\n",
      "http://item.ssgcdn.com/90/04/04/item/0000008040490_i1_290.jpg\n",
      "http://item.ssgcdn.com/25/04/89/item/1000029890425_i1_290.jpg\n",
      "http://item.ssgcdn.com/31/84/56/item/0000008568431_i1_290.jpg\n",
      "http://item.ssgcdn.com/55/75/36/item/1000029367555_i1_290.jpg\n",
      "http://item.ssgcdn.com/89/92/95/item/0000008959289_i1_290.jpg\n",
      "http://item.ssgcdn.com/40/90/16/item/1000027169040_i1_290.jpg\n",
      "http://item.ssgcdn.com/43/09/61/item/0000006610943_i1_290.jpg\n"
     ]
    }
   ],
   "source": [
    "for i in range(1,81):\n",
    "    image = driver.find_element_by_xpath('//*[@id=\"ty_thmb_view\"]/ul/li['+str(i)+']/div[1]/div[2]/a/img[1]')\n",
    "    image_url = image.get_attribute('src')\n",
    "    print(image_url)"
   ]
  },
  {
   "cell_type": "code",
   "execution_count": 32,
   "metadata": {},
   "outputs": [],
   "source": [
    "import urllib.request"
   ]
  },
  {
   "cell_type": "code",
   "execution_count": 33,
   "metadata": {},
   "outputs": [],
   "source": [
    "for i in range(1,81):\n",
    "    image = driver.find_element_by_xpath('//*[@id=\"ty_thmb_view\"]/ul/li['+str(i)+']/div[1]/div[2]/a/img[1]')\n",
    "    image_url = image.get_attribute('src')\n",
    "    urllib.request.urlretrieve(image_url, 'image_data/image'+str(i)+'.png')"
   ]
  },
  {
   "cell_type": "markdown",
   "metadata": {},
   "source": [
    "# pages"
   ]
  },
  {
   "cell_type": "code",
   "execution_count": 41,
   "metadata": {},
   "outputs": [],
   "source": [
    "driver.implicitly_wait(10)"
   ]
  },
  {
   "cell_type": "code",
   "execution_count": 40,
   "metadata": {
    "collapsed": true
   },
   "outputs": [
    {
     "ename": "ElementClickInterceptedException",
     "evalue": "Message: element click intercepted: Element <a href=\"#\" onclick=\"itemLister.changePage(...);return false;\">2</a> is not clickable at point (305, 644). Other element would receive the click: <html lang=\"ko\" style=\"height: 100%;\">...</html>\n  (Session info: chrome=91.0.4472.77)\n",
     "output_type": "error",
     "traceback": [
      "\u001b[0;31m---------------------------------------------------------------------------\u001b[0m",
      "\u001b[0;31mElementClickInterceptedException\u001b[0m          Traceback (most recent call last)",
      "\u001b[0;32m<ipython-input-40-3c3c9781e6da>\u001b[0m in \u001b[0;36m<module>\u001b[0;34m\u001b[0m\n\u001b[1;32m      9\u001b[0m         \u001b[0mprice_list\u001b[0m\u001b[0;34m.\u001b[0m\u001b[0mappend\u001b[0m\u001b[0;34m(\u001b[0m\u001b[0mprice\u001b[0m\u001b[0;34m.\u001b[0m\u001b[0mtext\u001b[0m\u001b[0;34m)\u001b[0m\u001b[0;34m\u001b[0m\u001b[0;34m\u001b[0m\u001b[0m\n\u001b[1;32m     10\u001b[0m \u001b[0;34m\u001b[0m\u001b[0m\n\u001b[0;32m---> 11\u001b[0;31m     \u001b[0mdriver\u001b[0m\u001b[0;34m.\u001b[0m\u001b[0mfind_element_by_xpath\u001b[0m\u001b[0;34m(\u001b[0m\u001b[0;34m'//*[@id=\"area_itemlist\"]/div[2]/a['\u001b[0m\u001b[0;34m+\u001b[0m\u001b[0mstr\u001b[0m\u001b[0;34m(\u001b[0m\u001b[0mj\u001b[0m\u001b[0;34m)\u001b[0m\u001b[0;34m+\u001b[0m\u001b[0;34m']'\u001b[0m\u001b[0;34m)\u001b[0m\u001b[0;34m.\u001b[0m\u001b[0mclick\u001b[0m\u001b[0;34m(\u001b[0m\u001b[0;34m)\u001b[0m\u001b[0;34m\u001b[0m\u001b[0;34m\u001b[0m\u001b[0m\n\u001b[0m",
      "\u001b[0;32m~/opt/anaconda3/lib/python3.8/site-packages/selenium/webdriver/remote/webelement.py\u001b[0m in \u001b[0;36mclick\u001b[0;34m(self)\u001b[0m\n\u001b[1;32m     78\u001b[0m     \u001b[0;32mdef\u001b[0m \u001b[0mclick\u001b[0m\u001b[0;34m(\u001b[0m\u001b[0mself\u001b[0m\u001b[0;34m)\u001b[0m\u001b[0;34m:\u001b[0m\u001b[0;34m\u001b[0m\u001b[0;34m\u001b[0m\u001b[0m\n\u001b[1;32m     79\u001b[0m         \u001b[0;34m\"\"\"Clicks the element.\"\"\"\u001b[0m\u001b[0;34m\u001b[0m\u001b[0;34m\u001b[0m\u001b[0m\n\u001b[0;32m---> 80\u001b[0;31m         \u001b[0mself\u001b[0m\u001b[0;34m.\u001b[0m\u001b[0m_execute\u001b[0m\u001b[0;34m(\u001b[0m\u001b[0mCommand\u001b[0m\u001b[0;34m.\u001b[0m\u001b[0mCLICK_ELEMENT\u001b[0m\u001b[0;34m)\u001b[0m\u001b[0;34m\u001b[0m\u001b[0;34m\u001b[0m\u001b[0m\n\u001b[0m\u001b[1;32m     81\u001b[0m \u001b[0;34m\u001b[0m\u001b[0m\n\u001b[1;32m     82\u001b[0m     \u001b[0;32mdef\u001b[0m \u001b[0msubmit\u001b[0m\u001b[0;34m(\u001b[0m\u001b[0mself\u001b[0m\u001b[0;34m)\u001b[0m\u001b[0;34m:\u001b[0m\u001b[0;34m\u001b[0m\u001b[0;34m\u001b[0m\u001b[0m\n",
      "\u001b[0;32m~/opt/anaconda3/lib/python3.8/site-packages/selenium/webdriver/remote/webelement.py\u001b[0m in \u001b[0;36m_execute\u001b[0;34m(self, command, params)\u001b[0m\n\u001b[1;32m    631\u001b[0m             \u001b[0mparams\u001b[0m \u001b[0;34m=\u001b[0m \u001b[0;34m{\u001b[0m\u001b[0;34m}\u001b[0m\u001b[0;34m\u001b[0m\u001b[0;34m\u001b[0m\u001b[0m\n\u001b[1;32m    632\u001b[0m         \u001b[0mparams\u001b[0m\u001b[0;34m[\u001b[0m\u001b[0;34m'id'\u001b[0m\u001b[0;34m]\u001b[0m \u001b[0;34m=\u001b[0m \u001b[0mself\u001b[0m\u001b[0;34m.\u001b[0m\u001b[0m_id\u001b[0m\u001b[0;34m\u001b[0m\u001b[0;34m\u001b[0m\u001b[0m\n\u001b[0;32m--> 633\u001b[0;31m         \u001b[0;32mreturn\u001b[0m \u001b[0mself\u001b[0m\u001b[0;34m.\u001b[0m\u001b[0m_parent\u001b[0m\u001b[0;34m.\u001b[0m\u001b[0mexecute\u001b[0m\u001b[0;34m(\u001b[0m\u001b[0mcommand\u001b[0m\u001b[0;34m,\u001b[0m \u001b[0mparams\u001b[0m\u001b[0;34m)\u001b[0m\u001b[0;34m\u001b[0m\u001b[0;34m\u001b[0m\u001b[0m\n\u001b[0m\u001b[1;32m    634\u001b[0m \u001b[0;34m\u001b[0m\u001b[0m\n\u001b[1;32m    635\u001b[0m     \u001b[0;32mdef\u001b[0m \u001b[0mfind_element\u001b[0m\u001b[0;34m(\u001b[0m\u001b[0mself\u001b[0m\u001b[0;34m,\u001b[0m \u001b[0mby\u001b[0m\u001b[0;34m=\u001b[0m\u001b[0mBy\u001b[0m\u001b[0;34m.\u001b[0m\u001b[0mID\u001b[0m\u001b[0;34m,\u001b[0m \u001b[0mvalue\u001b[0m\u001b[0;34m=\u001b[0m\u001b[0;32mNone\u001b[0m\u001b[0;34m)\u001b[0m\u001b[0;34m:\u001b[0m\u001b[0;34m\u001b[0m\u001b[0;34m\u001b[0m\u001b[0m\n",
      "\u001b[0;32m~/opt/anaconda3/lib/python3.8/site-packages/selenium/webdriver/remote/webdriver.py\u001b[0m in \u001b[0;36mexecute\u001b[0;34m(self, driver_command, params)\u001b[0m\n\u001b[1;32m    319\u001b[0m         \u001b[0mresponse\u001b[0m \u001b[0;34m=\u001b[0m \u001b[0mself\u001b[0m\u001b[0;34m.\u001b[0m\u001b[0mcommand_executor\u001b[0m\u001b[0;34m.\u001b[0m\u001b[0mexecute\u001b[0m\u001b[0;34m(\u001b[0m\u001b[0mdriver_command\u001b[0m\u001b[0;34m,\u001b[0m \u001b[0mparams\u001b[0m\u001b[0;34m)\u001b[0m\u001b[0;34m\u001b[0m\u001b[0;34m\u001b[0m\u001b[0m\n\u001b[1;32m    320\u001b[0m         \u001b[0;32mif\u001b[0m \u001b[0mresponse\u001b[0m\u001b[0;34m:\u001b[0m\u001b[0;34m\u001b[0m\u001b[0;34m\u001b[0m\u001b[0m\n\u001b[0;32m--> 321\u001b[0;31m             \u001b[0mself\u001b[0m\u001b[0;34m.\u001b[0m\u001b[0merror_handler\u001b[0m\u001b[0;34m.\u001b[0m\u001b[0mcheck_response\u001b[0m\u001b[0;34m(\u001b[0m\u001b[0mresponse\u001b[0m\u001b[0;34m)\u001b[0m\u001b[0;34m\u001b[0m\u001b[0;34m\u001b[0m\u001b[0m\n\u001b[0m\u001b[1;32m    322\u001b[0m             response['value'] = self._unwrap_value(\n\u001b[1;32m    323\u001b[0m                 response.get('value', None))\n",
      "\u001b[0;32m~/opt/anaconda3/lib/python3.8/site-packages/selenium/webdriver/remote/errorhandler.py\u001b[0m in \u001b[0;36mcheck_response\u001b[0;34m(self, response)\u001b[0m\n\u001b[1;32m    240\u001b[0m                 \u001b[0malert_text\u001b[0m \u001b[0;34m=\u001b[0m \u001b[0mvalue\u001b[0m\u001b[0;34m[\u001b[0m\u001b[0;34m'alert'\u001b[0m\u001b[0;34m]\u001b[0m\u001b[0;34m.\u001b[0m\u001b[0mget\u001b[0m\u001b[0;34m(\u001b[0m\u001b[0;34m'text'\u001b[0m\u001b[0;34m)\u001b[0m\u001b[0;34m\u001b[0m\u001b[0;34m\u001b[0m\u001b[0m\n\u001b[1;32m    241\u001b[0m             \u001b[0;32mraise\u001b[0m \u001b[0mexception_class\u001b[0m\u001b[0;34m(\u001b[0m\u001b[0mmessage\u001b[0m\u001b[0;34m,\u001b[0m \u001b[0mscreen\u001b[0m\u001b[0;34m,\u001b[0m \u001b[0mstacktrace\u001b[0m\u001b[0;34m,\u001b[0m \u001b[0malert_text\u001b[0m\u001b[0;34m)\u001b[0m\u001b[0;34m\u001b[0m\u001b[0;34m\u001b[0m\u001b[0m\n\u001b[0;32m--> 242\u001b[0;31m         \u001b[0;32mraise\u001b[0m \u001b[0mexception_class\u001b[0m\u001b[0;34m(\u001b[0m\u001b[0mmessage\u001b[0m\u001b[0;34m,\u001b[0m \u001b[0mscreen\u001b[0m\u001b[0;34m,\u001b[0m \u001b[0mstacktrace\u001b[0m\u001b[0;34m)\u001b[0m\u001b[0;34m\u001b[0m\u001b[0;34m\u001b[0m\u001b[0m\n\u001b[0m\u001b[1;32m    243\u001b[0m \u001b[0;34m\u001b[0m\u001b[0m\n\u001b[1;32m    244\u001b[0m     \u001b[0;32mdef\u001b[0m \u001b[0m_value_or_default\u001b[0m\u001b[0;34m(\u001b[0m\u001b[0mself\u001b[0m\u001b[0;34m,\u001b[0m \u001b[0mobj\u001b[0m\u001b[0;34m,\u001b[0m \u001b[0mkey\u001b[0m\u001b[0;34m,\u001b[0m \u001b[0mdefault\u001b[0m\u001b[0;34m)\u001b[0m\u001b[0;34m:\u001b[0m\u001b[0;34m\u001b[0m\u001b[0;34m\u001b[0m\u001b[0m\n",
      "\u001b[0;31mElementClickInterceptedException\u001b[0m: Message: element click intercepted: Element <a href=\"#\" onclick=\"itemLister.changePage(...);return false;\">2</a> is not clickable at point (305, 644). Other element would receive the click: <html lang=\"ko\" style=\"height: 100%;\">...</html>\n  (Session info: chrome=91.0.4472.77)\n"
     ]
    }
   ],
   "source": [
    "product_list = []\n",
    "price_list = []\n",
    "\n",
    "for j in range(1,10):\n",
    "    for i in range(1,81):\n",
    "        product_name = driver.find_element_by_xpath('//*[@id=\"ty_thmb_view\"]/ul/li['+str(i)+']/div[2]/div[2]/div/a/em[1]')\n",
    "        price = driver.find_element_by_xpath('//*[@id=\"ty_thmb_view\"]/ul/li['+str(i)+']/div[2]/div[3]/div[1]/em')\n",
    "        product_list.append(product_name.text)\n",
    "        price_list.append(price.text)\n",
    "    \n",
    "    driver.find_element_by_xpath('//*[@id=\"area_itemlist\"]/div[2]/a['+str(j)+']').click()"
   ]
  },
  {
   "cell_type": "code",
   "execution_count": 43,
   "metadata": {},
   "outputs": [
    {
     "name": "stderr",
     "output_type": "stream",
     "text": [
      "\n",
      "\n",
      "====== WebDriver manager ======\n",
      "Current google-chrome version is 91.0.4472\n",
      "Get LATEST driver version for 91.0.4472\n",
      "Driver [/Users/kihoonlee/.wdm/drivers/chromedriver/mac64/91.0.4472.19/chromedriver] found in cache\n"
     ]
    },
    {
     "name": "stdout",
     "output_type": "stream",
     "text": [
      "1 page Done\n",
      "2 page Done\n",
      "3 page Done\n",
      "4 page Done\n",
      "5 page Done\n",
      "6 page Done\n",
      "7 page Done\n",
      "8 page Done\n",
      "9 page Done\n"
     ]
    },
    {
     "ename": "NameError",
     "evalue": "name 'drive' is not defined",
     "output_type": "error",
     "traceback": [
      "\u001b[0;31m---------------------------------------------------------------------------\u001b[0m",
      "\u001b[0;31mNameError\u001b[0m                                 Traceback (most recent call last)",
      "\u001b[0;32m<ipython-input-43-b7232dea9329>\u001b[0m in \u001b[0;36m<module>\u001b[0;34m\u001b[0m\n\u001b[1;32m     28\u001b[0m     \u001b[0mprint\u001b[0m\u001b[0;34m(\u001b[0m\u001b[0mj\u001b[0m\u001b[0;34m,\u001b[0m \u001b[0;34m'page Done'\u001b[0m\u001b[0;34m)\u001b[0m\u001b[0;34m\u001b[0m\u001b[0;34m\u001b[0m\u001b[0m\n\u001b[1;32m     29\u001b[0m \u001b[0;34m\u001b[0m\u001b[0m\n\u001b[0;32m---> 30\u001b[0;31m \u001b[0mdrive\u001b[0m\u001b[0;34m.\u001b[0m\u001b[0mquit\u001b[0m\u001b[0;34m(\u001b[0m\u001b[0;34m)\u001b[0m\u001b[0;34m\u001b[0m\u001b[0;34m\u001b[0m\u001b[0m\n\u001b[0m",
      "\u001b[0;31mNameError\u001b[0m: name 'drive' is not defined"
     ]
    }
   ],
   "source": [
    "driver = webdriver.Chrome(ChromeDriverManager().install())\n",
    "driver.get('http://emart.ssg.com/')\n",
    "driver.find_element_by_xpath('//*[@id=\"e_gnb\"]/div/div[1]/div[2]/ul[1]/li[9]/a').click()\n",
    "\n",
    "driver.implicitly_wait(10)\n",
    "\n",
    "product_list = []\n",
    "price_list = []\n",
    "\n",
    "for j in range(1,10):\n",
    "    for i in range(1,81):\n",
    "        try:\n",
    "            product_name = driver.find_element_by_xpath('//*[@id=\"ty_thmb_view\"]/ul/li['+str(i)+']/div[2]/div[2]/div/a/em[1]')\n",
    "            price = driver.find_element_by_xpath('//*[@id=\"ty_thmb_view\"]/ul/li['+str(i)+']/div[2]/div[3]/div[1]/em')\n",
    "            image = driver.find_element_by_xpath('//*[@id=\"ty_thmb_view\"]/ul/li['+str(i)+']/div[1]/div[2]/a/img[1]')\n",
    "            image_url = image.get_attribute('src')\n",
    "            urllib.request.urlretrieve(image_url, 'image_data/'+str(j)+'image'+str(i)+'.png')\n",
    "            product_list.append(product_name.text)\n",
    "            price_list.append(price.text)\n",
    "            \n",
    "        except Exception as e:\n",
    "            print(e)\n",
    "            \n",
    "        finally:\n",
    "            pass\n",
    "        \n",
    "    driver.find_element_by_xpath('//*[@id=\"area_itemlist\"]/div[2]/a['+str(j)+']').click()\n",
    "    print(j, 'page Done')\n",
    "    \n",
    "driver.quit()    "
   ]
  },
  {
   "cell_type": "code",
   "execution_count": 44,
   "metadata": {},
   "outputs": [],
   "source": [
    "df1 = pd.DataFrame({'상품명':product_list,'가격':price_list})\n",
    "df1.to_excel('result2.xlsx')"
   ]
  },
  {
   "cell_type": "code",
   "execution_count": 45,
   "metadata": {},
   "outputs": [
    {
     "name": "stdout",
     "output_type": "stream",
     "text": [
      "Done\n"
     ]
    }
   ],
   "source": [
    "print('Done')"
   ]
  }
 ],
 "metadata": {
  "kernelspec": {
   "display_name": "Python 3",
   "language": "python",
   "name": "python3"
  },
  "language_info": {
   "codemirror_mode": {
    "name": "ipython",
    "version": 3
   },
   "file_extension": ".py",
   "mimetype": "text/x-python",
   "name": "python",
   "nbconvert_exporter": "python",
   "pygments_lexer": "ipython3",
   "version": "3.8.5"
  }
 },
 "nbformat": 4,
 "nbformat_minor": 4
}
